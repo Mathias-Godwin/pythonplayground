{
 "cells": [
  {
   "cell_type": "code",
   "execution_count": 69,
   "metadata": {},
   "outputs": [],
   "source": [
    "# -*- coding: utf-8 -*-\n",
    "\"\"\"\n",
    "Author: Mathias Godwin\n",
    "Mail: godwinsaint6@gmail.com\n",
    "\"\"\"\n",
    "import random\n",
    "import time \n",
    "import pandas as pd\n",
    "c = []\n",
    "def choicer():\n",
    "    a = ['➕', '➖', '✖', '➗',  'mod']\n",
    "    b = random.choice(a)\n",
    "    c.append(b)\n",
    "    return b, c\n",
    "\n",
    "def generate(ranges, level):\n",
    "    left = [random.randint(-level, level) for i in range(ranges)]\n",
    "    right = [random.randint(-level, level) for i in range(ranges)]\n",
    "    return right, left\n",
    "\n",
    "def choose(val=c):\n",
    "    return val\n",
    "\n",
    "def refine(mid):\n",
    "    for i, j in mid:\n",
    "       b, c = choicer()\n",
    "       choose(c)\n",
    "       if b == '➕':\n",
    "           return i+j\n",
    "       elif b == '➖':\n",
    "           return i-j\n",
    "       elif b == '✖':\n",
    "           return i * j\n",
    "       if (b == 'mod' and j == 0):\n",
    "            return 0\n",
    "       elif b == 'mod':\n",
    "            return i%j\n",
    "       if (b == '➗' and j == 0):\n",
    "           return 0\n",
    "       else:\n",
    "           return i / j\n",
    "\n",
    "def calculate(ranges, level):\n",
    "    right, left = generate(ranges=ranges, level=level)\n",
    "    middle = zip(right, left)\n",
    "    get_val = [refine(middle) for i in range(ranges)]\n",
    "    return pd.DataFrame({'left':right, 'right':left, 'operator':choose(), 'answer':get_val}), right, left\n",
    "\n",
    "def happyemocon():\n",
    "    happy = random.choice(['👍', '😎', '👌', '😉', '😍', '😊', '✔', '👏', '💯', '👊', '🤜', '🤝'])\n",
    "    return happy\n",
    "def sademocon():\n",
    "    sad = random.choice(['❌','⁉','❎','⚠', '😱','❓', '❔', '⚠', '😬', '🤕', '😫'])\n",
    "    return sad\n",
    "def timer(start, end):\n",
    "    total = end - start\n",
    "    hr = total // 3600\n",
    "    min = total // 60\n",
    "    sec = total % 60\n",
    "    return  ('%.0f:%.0f:%.0fs'%(hr, min, sec))\n",
    "def play(ranges=10, level=10): \n",
    "    _, right, left = calculate(ranges=ranges, level=level)\n",
    "    middle = zip(right, left, choose())\n",
    "    main_value = []\n",
    "    get_time = []\n",
    "    for right, left, operator in middle:\n",
    "        start = time.time()\n",
    "        inpu = input(f'question=\\> {right} {operator} {left}:  ')\n",
    "        main_value.append(float(inpu))\n",
    "        end = time.time()\n",
    "        get_time.append(timer(start, end))\n",
    "        if inpu.lstrip('-').isdigit():\n",
    "            print(f'------------------------¦¦¦¦¦»»» {happyemocon()}')\n",
    "        else:\n",
    "            raise ValueError('only type \"int\" are allowed you provided type \"%s\"' %type(m).__name__)\n",
    "\n",
    "    yeah =  [happyemocon() if i == j else sademocon() for i, j in zip(main_value, _.answer)]\n",
    "    return pd.DataFrame({'Your answers':main_value, 'True answers':round(_.answer, 1), 'Yeah!':yeah,'Time':get_time})"
   ]
  },
  {
   "cell_type": "code",
   "execution_count": 70,
   "metadata": {},
   "outputs": [
    {
     "name": "stdin",
     "output_type": "stream",
     "text": [
      "question=\\> -7 mod 7:   7\n"
     ]
    },
    {
     "name": "stdout",
     "output_type": "stream",
     "text": [
      "------------------------¦¦¦¦¦»»» ✔\n"
     ]
    },
    {
     "name": "stdin",
     "output_type": "stream",
     "text": [
      "question=\\> -8 ✖ -10:   80\n"
     ]
    },
    {
     "name": "stdout",
     "output_type": "stream",
     "text": [
      "------------------------¦¦¦¦¦»»» 🤜\n"
     ]
    }
   ],
   "source": [
    "val = play(2, 10)"
   ]
  },
  {
   "cell_type": "code",
   "execution_count": 71,
   "metadata": {},
   "outputs": [
    {
     "data": {
      "text/html": [
       "<div>\n",
       "<style scoped>\n",
       "    .dataframe tbody tr th:only-of-type {\n",
       "        vertical-align: middle;\n",
       "    }\n",
       "\n",
       "    .dataframe tbody tr th {\n",
       "        vertical-align: top;\n",
       "    }\n",
       "\n",
       "    .dataframe thead th {\n",
       "        text-align: right;\n",
       "    }\n",
       "</style>\n",
       "<table border=\"1\" class=\"dataframe\">\n",
       "  <thead>\n",
       "    <tr style=\"text-align: right;\">\n",
       "      <th></th>\n",
       "      <th>Your answers</th>\n",
       "      <th>True answers</th>\n",
       "      <th>Yeah!</th>\n",
       "      <th>Time</th>\n",
       "    </tr>\n",
       "  </thead>\n",
       "  <tbody>\n",
       "    <tr>\n",
       "      <th>0</th>\n",
       "      <td>7.0</td>\n",
       "      <td>0</td>\n",
       "      <td>❓</td>\n",
       "      <td>0:0:7s</td>\n",
       "    </tr>\n",
       "    <tr>\n",
       "      <th>1</th>\n",
       "      <td>80.0</td>\n",
       "      <td>80</td>\n",
       "      <td>👍</td>\n",
       "      <td>0:0:7s</td>\n",
       "    </tr>\n",
       "  </tbody>\n",
       "</table>\n",
       "</div>"
      ],
      "text/plain": [
       "   Your answers  True answers Yeah!    Time\n",
       "0           7.0             0     ❓  0:0:7s\n",
       "1          80.0            80     👍  0:0:7s"
      ]
     },
     "execution_count": 71,
     "metadata": {},
     "output_type": "execute_result"
    }
   ],
   "source": [
    "val"
   ]
  }
 ],
 "metadata": {
  "kernelspec": {
   "display_name": "Python 3",
   "language": "python",
   "name": "python3"
  },
  "language_info": {
   "codemirror_mode": {
    "name": "ipython",
    "version": 3
   },
   "file_extension": ".py",
   "mimetype": "text/x-python",
   "name": "python",
   "nbconvert_exporter": "python",
   "pygments_lexer": "ipython3",
   "version": "3.7.3"
  }
 },
 "nbformat": 4,
 "nbformat_minor": 2
}
