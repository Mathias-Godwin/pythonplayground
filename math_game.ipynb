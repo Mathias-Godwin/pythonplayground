{
 "cells": [
  {
   "cell_type": "code",
   "execution_count": 30,
   "metadata": {},
   "outputs": [],
   "source": [
    "# -*- coding: utf-8 -*-\n",
    "\"\"\"\n",
    "Editor: Mathias Godwin\n",
    "Mail: godwinsaint6@gmail.com\n",
    "\"\"\"\n",
    "import random\n",
    "import time \n",
    "import pandas as pd\n",
    "c = []\n",
    "def choicer():\n",
    "    a = ['+', '-', '*', '/']\n",
    "    b = random.choice(a)\n",
    "    c.append(b)\n",
    "    return b, c\n",
    "\n",
    "def generate(ranges, level):\n",
    "    left = [random.randint(-level, level) for i in range(ranges)]\n",
    "    right = [random.randint(-level, level) for i in range(ranges)]\n",
    "    return right, left\n",
    "\n",
    "def choose(val=c):\n",
    "    return val\n",
    "\n",
    "def refine(mid):\n",
    "    for i, j in mid:\n",
    "       b, c = choicer()\n",
    "       choose(c)\n",
    "       if b == '+':\n",
    "           return i+j\n",
    "       elif b == '-':\n",
    "           return i-j\n",
    "       elif b == '*':\n",
    "           return i * j\n",
    "       if (b == '/' and j == 0):\n",
    "           return 0\n",
    "       else:\n",
    "           return i / j\n",
    "\n",
    "def calculate(ranges, level):\n",
    "    right, left = generate(ranges=ranges, level=level)\n",
    "    middle = zip(right, left)\n",
    "    get_val = [refine(middle) for i in range(ranges)]\n",
    "    return pd.DataFrame({'left':right, 'right':left, 'operator':choose(), 'answer':get_val}), right, left\n",
    "\n",
    "\n",
    "def play(ranges=10, level=10):\n",
    "    _, right, left = calculate(ranges=ranges, level=level)\n",
    "    middle = zip(right, left, choose())\n",
    "    main_value = []\n",
    "    start = time.time()\n",
    "    for right, left, operator in middle:\n",
    "        main_value.append(float(input(f'question=\\> {right} {operator} {left}:  ')))\n",
    "    end_time = time.time()\n",
    "    total = end_time - start\n",
    "    hr = total // 3600\n",
    "    min = total // 60\n",
    "    sec = total % 60\n",
    "    return pd.DataFrame({'Your answers':main_value, 'True answers':round(_.answer, 1)}), ('Time taken %.0f:%.0fm:%.0fs'%(hr, min, sec))"
   ]
  },
  {
   "cell_type": "code",
   "execution_count": 31,
   "metadata": {},
   "outputs": [
    {
     "name": "stdout",
     "output_type": "stream",
     "text": [
      "question=\\> 1 / -3:  7\n",
      "question=\\> -3 / 0:  56\n",
      "question=\\> -1 + 0:  9\n"
     ]
    }
   ],
   "source": [
    "val, time = play(3 , 3)"
   ]
  },
  {
   "cell_type": "code",
   "execution_count": 32,
   "metadata": {},
   "outputs": [
    {
     "data": {
      "text/html": [
       "<div>\n",
       "<style scoped>\n",
       "    .dataframe tbody tr th:only-of-type {\n",
       "        vertical-align: middle;\n",
       "    }\n",
       "\n",
       "    .dataframe tbody tr th {\n",
       "        vertical-align: top;\n",
       "    }\n",
       "\n",
       "    .dataframe thead th {\n",
       "        text-align: right;\n",
       "    }\n",
       "</style>\n",
       "<table border=\"1\" class=\"dataframe\">\n",
       "  <thead>\n",
       "    <tr style=\"text-align: right;\">\n",
       "      <th></th>\n",
       "      <th>Your answers</th>\n",
       "      <th>True answers</th>\n",
       "    </tr>\n",
       "  </thead>\n",
       "  <tbody>\n",
       "    <tr>\n",
       "      <th>0</th>\n",
       "      <td>7.0</td>\n",
       "      <td>-0.3</td>\n",
       "    </tr>\n",
       "    <tr>\n",
       "      <th>1</th>\n",
       "      <td>56.0</td>\n",
       "      <td>0.0</td>\n",
       "    </tr>\n",
       "    <tr>\n",
       "      <th>2</th>\n",
       "      <td>9.0</td>\n",
       "      <td>-1.0</td>\n",
       "    </tr>\n",
       "  </tbody>\n",
       "</table>\n",
       "</div>"
      ],
      "text/plain": [
       "   Your answers  True answers\n",
       "0           7.0          -0.3\n",
       "1          56.0           0.0\n",
       "2           9.0          -1.0"
      ]
     },
     "execution_count": 32,
     "metadata": {},
     "output_type": "execute_result"
    }
   ],
   "source": [
    "val"
   ]
  },
  {
   "cell_type": "code",
   "execution_count": 33,
   "metadata": {},
   "outputs": [
    {
     "data": {
      "text/plain": [
       "<matplotlib.axes._subplots.AxesSubplot at 0x1cf38759a58>"
      ]
     },
     "execution_count": 33,
     "metadata": {},
     "output_type": "execute_result"
    },
    {
     "data": {
      "image/png": "[encoded data removed]",
      "text/plain": [
       "<Figure size 432x288 with 1 Axes>"
      ]
     },
     "metadata": {
      "needs_background": "light"
     },
     "output_type": "display_data"
    }
   ],
   "source": [
    "val.plot()\n"
   ]
  },
  {
   "cell_type": "code",
   "execution_count": null,
   "metadata": {},
   "outputs": [],
   "source": []
  },
  {
   "cell_type": "code",
   "execution_count": null,
   "metadata": {},
   "outputs": [],
   "source": []
  }
 ],
 "metadata": {
  "kernelspec": {
   "display_name": "Python 3",
   "language": "python",
   "name": "python3"
  },
  "language_info": {
   "codemirror_mode": {
    "name": "ipython",
    "version": 3
   },
   "file_extension": ".py",
   "mimetype": "text/x-python",
   "name": "python",
   "nbconvert_exporter": "python",
   "pygments_lexer": "ipython3",
   "version": "3.7.3"
  }
 },
 "nbformat": 4,
 "nbformat_minor": 2
}
